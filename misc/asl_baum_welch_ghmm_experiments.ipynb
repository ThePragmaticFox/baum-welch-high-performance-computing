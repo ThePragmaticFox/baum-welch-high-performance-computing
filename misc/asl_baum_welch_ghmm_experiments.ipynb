{
 "cells": [
  {
   "cell_type": "code",
   "execution_count": 1,
   "metadata": {},
   "outputs": [],
   "source": [
    "import ghmm\n",
    "from ghmm import *\n",
    "import numpy as np\n",
    "\n",
    "f = lambda x: \"%.8f\" % (x,) # float rounding function\n",
    "\n",
    "def get_model_parameters(hmm_model, A_star, B_star, pi_star):\n",
    "        hmm = hmm_model.cmodel\n",
    "\n",
    "        if hmm_model.hasFlags(kHigherOrderEmissions):\n",
    "            order = ghmmwrapper.int_array2list(hmm_model.cmodel.order, hmm_model.N)\n",
    "        else:\n",
    "            order = [0]*hmm.N\n",
    "\n",
    "        if hmm.N <= 4:\n",
    "            iter_list = range(hmm_model.N)\n",
    "        else:\n",
    "            iter_list = [0,1,'X',hmm.N-2,hmm.N-1]\n",
    "\n",
    "        for k in iter_list:\n",
    "            if k == 'X':\n",
    "                continue\n",
    "\n",
    "            state = hmm.getState(k)\n",
    "\n",
    "            pi_star[k] = state.pi\n",
    "\n",
    "            for outp in range(hmm.M**(order[k]+1)):\n",
    "                B_star[k][outp] = ghmmwrapper.double_array_getitem(state.b,outp)\n",
    "\n",
    "            for i in range( state.out_states):\n",
    "                A_star[k][state.getOutState(i)] = ghmmwrapper.double_array_getitem(state.out_a,i)\n",
    "\n",
    "\n",
    "def print_pi(pi, bw_str):\n",
    "    for i in range(pi.shape[0]):\n",
    "        print(\"    {}.init_prob[{}] = \".format(bw_str, i) + f(pi[i]) + \";\")\n",
    "\n",
    "\n",
    "def print_A(A, bw_str):\n",
    "    for i in range(A.shape[0]):\n",
    "        for j in range(A.shape[1]):\n",
    "            print(\"    {}.trans_prob[{}*N + {}] = \".format(bw_str, i, j) + f(A[i][j]) + \";\")\n",
    "\n",
    "\n",
    "def print_B(B, bw_str):\n",
    "    for i in range(B.shape[0]):\n",
    "        for j in range(B.shape[1]):\n",
    "            print(\"    {}.emit_prob[{}*M + {}] = \".format(bw_str, i, j) + f(B[i][j]) + \";\")\n",
    "\n",
    "\n",
    "def print_model(A, B, pi, bw_str):\n",
    "    print_pi(pi, bw_str)\n",
    "    print(\"\")\n",
    "    print_A(A, bw_str)\n",
    "    print(\"\")\n",
    "    print_B(B, bw_str)\n",
    "    print(\"\")\n",
    "\n",
    "\n",
    "def print_converged_model(hmm_model, A, B, pi, bw_str):\n",
    "    A_star = np.copy(A)\n",
    "    B_star = np.copy(B)\n",
    "    pi_star = np.copy(pi)\n",
    "    get_model_parameters(hmm_model, A_star, B_star, pi_star)\n",
    "    print_model(A_star, B_star, pi_star, bw_str)\n",
    "\n",
    "def print_observations(Y, bw_str):\n",
    "    print(\"\")\n",
    "    for i in range(Y.shape[0]):\n",
    "        print(\"    {}.observations[{}*T + {}] = \".format(bw_str, 0, i) + str(Y[i]) + \";\")\n",
    "    print(\"\")\n",
    "\n",
    "\n",
    "\n"
   ]
  },
  {
   "cell_type": "code",
   "execution_count": 2,
   "metadata": {},
   "outputs": [
    {
     "output_type": "stream",
     "name": "stdout",
     "text": "\n    bw.observations[0*T + 0] = 0;\n    bw.observations[0*T + 1] = 0;\n    bw.observations[0*T + 2] = 0;\n    bw.observations[0*T + 3] = 0;\n    bw.observations[0*T + 4] = 0;\n    bw.observations[0*T + 5] = 1;\n    bw.observations[0*T + 6] = 1;\n    bw.observations[0*T + 7] = 0;\n    bw.observations[0*T + 8] = 0;\n    bw.observations[0*T + 9] = 0;\n\n    bw.init_prob[0] = 0.20000000;\n    bw.init_prob[1] = 0.80000000;\n\n    bw.trans_prob[0*N + 0] = 0.50000000;\n    bw.trans_prob[0*N + 1] = 0.50000000;\n    bw.trans_prob[1*N + 0] = 0.30000000;\n    bw.trans_prob[1*N + 1] = 0.70000000;\n\n    bw.emit_prob[0*M + 0] = 0.30000000;\n    bw.emit_prob[0*M + 1] = 0.70000000;\n    bw.emit_prob[1*M + 0] = 0.80000000;\n    bw.emit_prob[1*M + 1] = 0.20000000;\n\n    bw_check.init_prob[0] = 0.07187023;\n    bw_check.init_prob[1] = 0.92812977;\n\n    bw_check.trans_prob[0*N + 0] = 0.43921478;\n    bw_check.trans_prob[0*N + 1] = 0.56078522;\n    bw_check.trans_prob[1*N + 0] = 0.21445682;\n    bw_check.trans_prob[1*N + 1] = 0.78554318;\n\n    bw_check.emit_prob[0*M + 0] = 0.46160107;\n    bw_check.emit_prob[0*M + 1] = 0.53839893;\n    bw_check.emit_prob[1*M + 0] = 0.91501557;\n    bw_check.emit_prob[1*M + 1] = 0.08498443;\n\n"
    }
   ],
   "source": [
    "# test_case_ghmm_0\n",
    "\n",
    "A = np.array([[0.5, 0.5], [0.3, 0.7]], dtype=np.float64)\n",
    "B = np.array([[0.3, 0.7], [0.8, 0.2]], dtype=np.float64)\n",
    "pi = np.array([0.2, 0.8], dtype=np.float64)\n",
    "Y = np.array([0, 0, 0, 0, 0, 1, 1, 0, 0, 0], np.int)\n",
    "\n",
    "nrSteps = 1\n",
    "loglikelihoodCutoff = 0\n",
    "sigma = IntegerRange(0,2)\n",
    "\n",
    "print_observations(Y, \"bw\")\n",
    "print_model(A, B, pi, \"bw\")\n",
    "hmm_model = HMMFromMatrices(sigma, DiscreteDistribution(sigma), list(A), list(B), list(pi))\n",
    "train_seq = EmissionSequence(sigma, list(Y))\n",
    "hmm_model.baumWelch(train_seq, nrSteps, loglikelihoodCutoff)\n",
    "print_converged_model(hmm_model, A, B, pi, \"bw_check\")\n",
    "\n"
   ]
  },
  {
   "cell_type": "code",
   "execution_count": 3,
   "metadata": {},
   "outputs": [
    {
     "output_type": "stream",
     "name": "stderr",
     "text": "GHMM ghmm.py:148 - reestimate.c:ghmm_dmodel_baum_welch(843): No convergence: log P < log P-old! (n=128)\n\n\n    bw.observations[0*T + 0] = 0;\n    bw.observations[0*T + 1] = 0;\n    bw.observations[0*T + 2] = 0;\n    bw.observations[0*T + 3] = 0;\n    bw.observations[0*T + 4] = 0;\n    bw.observations[0*T + 5] = 1;\n    bw.observations[0*T + 6] = 1;\n    bw.observations[0*T + 7] = 0;\n    bw.observations[0*T + 8] = 0;\n    bw.observations[0*T + 9] = 0;\n\n    bw.init_prob[0] = 0.20000000;\n    bw.init_prob[1] = 0.80000000;\n\n    bw.trans_prob[0*N + 0] = 0.50000000;\n    bw.trans_prob[0*N + 1] = 0.50000000;\n    bw.trans_prob[1*N + 0] = 0.30000000;\n    bw.trans_prob[1*N + 1] = 0.70000000;\n\n    bw.emit_prob[0*M + 0] = 0.30000000;\n    bw.emit_prob[0*M + 1] = 0.70000000;\n    bw.emit_prob[1*M + 0] = 0.80000000;\n    bw.emit_prob[1*M + 1] = 0.20000000;\n\n    bw_check.init_prob[0] = 0.00000000;\n    bw_check.init_prob[1] = 1.00000000;\n\n    bw_check.trans_prob[0*N + 0] = 0.50000000;\n    bw_check.trans_prob[0*N + 1] = 0.50000000;\n    bw_check.trans_prob[1*N + 0] = 0.14285714;\n    bw_check.trans_prob[1*N + 1] = 0.85714286;\n\n    bw_check.emit_prob[0*M + 0] = 0.00000000;\n    bw_check.emit_prob[0*M + 1] = 1.00000000;\n    bw_check.emit_prob[1*M + 0] = 1.00000000;\n    bw_check.emit_prob[1*M + 1] = 0.00000000;\n\n"
    }
   ],
   "source": [
    "# test_case_ghmm_1\n",
    "# the same as test_case_ghmm_0\n",
    "# run until convergence, instead of just 1 iteration\n",
    "\n",
    "A = np.array([[0.5, 0.5], [0.3, 0.7]], dtype=np.float64)\n",
    "B = np.array([[0.3, 0.7], [0.8, 0.2]], dtype=np.float64)\n",
    "pi = np.array([0.2, 0.8], dtype=np.float64)\n",
    "Y = np.array([0, 0, 0, 0, 0, 1, 1, 0, 0, 0], np.int)\n",
    "\n",
    "nrSteps = 1000\n",
    "loglikelihoodCutoff = 0\n",
    "sigma = IntegerRange(0,2)\n",
    "\n",
    "print_observations(Y, \"bw\")\n",
    "print_model(A, B, pi, \"bw\")\n",
    "hmm_model = HMMFromMatrices(sigma, DiscreteDistribution(sigma), list(A), list(B), list(pi))\n",
    "train_seq = EmissionSequence(sigma, list(Y))\n",
    "hmm_model.baumWelch(train_seq, nrSteps, loglikelihoodCutoff)\n",
    "print_converged_model(hmm_model, A, B, pi, \"bw_check\")\n",
    "\n"
   ]
  },
  {
   "cell_type": "code",
   "execution_count": 4,
   "metadata": {},
   "outputs": [
    {
     "output_type": "stream",
     "name": "stdout",
     "text": "\n    bw.observations[0*T + 0] = 2;\n    bw.observations[0*T + 1] = 1;\n    bw.observations[0*T + 2] = 0;\n    bw.observations[0*T + 3] = 1;\n    bw.observations[0*T + 4] = 0;\n    bw.observations[0*T + 5] = 2;\n    bw.observations[0*T + 6] = 2;\n    bw.observations[0*T + 7] = 2;\n    bw.observations[0*T + 8] = 1;\n    bw.observations[0*T + 9] = 1;\n    bw.observations[0*T + 10] = 2;\n    bw.observations[0*T + 11] = 2;\n    bw.observations[0*T + 12] = 0;\n    bw.observations[0*T + 13] = 1;\n    bw.observations[0*T + 14] = 1;\n    bw.observations[0*T + 15] = 0;\n\n    bw.init_prob[0] = 0.10000000;\n    bw.init_prob[1] = 0.50000000;\n    bw.init_prob[2] = 0.40000000;\n\n    bw.trans_prob[0*N + 0] = 0.50000000;\n    bw.trans_prob[0*N + 1] = 0.40000000;\n    bw.trans_prob[0*N + 2] = 0.10000000;\n    bw.trans_prob[1*N + 0] = 0.30000000;\n    bw.trans_prob[1*N + 1] = 0.30000000;\n    bw.trans_prob[1*N + 2] = 0.40000000;\n    bw.trans_prob[2*N + 0] = 0.10000000;\n    bw.trans_prob[2*N + 1] = 0.10000000;\n    bw.trans_prob[2*N + 2] = 0.80000000;\n\n    bw.emit_prob[0*M + 0] = 0.10000000;\n    bw.emit_prob[0*M + 1] = 0.00000000;\n    bw.emit_prob[0*M + 2] = 0.90000000;\n    bw.emit_prob[1*M + 0] = 0.05000000;\n    bw.emit_prob[1*M + 1] = 0.95000000;\n    bw.emit_prob[1*M + 2] = 0.00000000;\n    bw.emit_prob[2*M + 0] = 0.30000000;\n    bw.emit_prob[2*M + 1] = 0.52000000;\n    bw.emit_prob[2*M + 2] = 0.18000000;\n\n    bw_check.init_prob[0] = 0.43136131;\n    bw_check.init_prob[1] = 0.00000000;\n    bw_check.init_prob[2] = 0.56863869;\n\n    bw_check.trans_prob[0*N + 0] = 0.54129839;\n    bw_check.trans_prob[0*N + 1] = 0.33806567;\n    bw_check.trans_prob[0*N + 2] = 0.12063595;\n    bw_check.trans_prob[1*N + 0] = 0.24124142;\n    bw_check.trans_prob[1*N + 1] = 0.30826810;\n    bw_check.trans_prob[1*N + 2] = 0.45049048;\n    bw_check.trans_prob[2*N + 0] = 0.14334083;\n    bw_check.trans_prob[2*N + 1] = 0.07031231;\n    bw_check.trans_prob[2*N + 2] = 0.78634686;\n\n    bw_check.emit_prob[0*M + 0] = 0.13073710;\n    bw_check.emit_prob[0*M + 1] = 0.00000000;\n    bw_check.emit_prob[0*M + 2] = 0.86926290;\n    bw_check.emit_prob[1*M + 0] = 0.09380801;\n    bw_check.emit_prob[1*M + 1] = 0.90619199;\n    bw_check.emit_prob[1*M + 2] = 0.00000000;\n    bw_check.emit_prob[2*M + 0] = 0.37463835;\n    bw_check.emit_prob[2*M + 1] = 0.39607634;\n    bw_check.emit_prob[2*M + 2] = 0.22928531;\n\n"
    }
   ],
   "source": [
    "# test_case_ghmm_2\n",
    "\n",
    "A = np.array([[0.5, 0.4, 0.1], [0.3, 0.3, 0.4], [0.1, 0.1, 0.8]], dtype=np.float64)\n",
    "B = np.array([[0.1, 0.0, 0.9], [0.05, 0.95, 0.0], [0.3, 0.52, 0.18]], dtype=np.float64)\n",
    "pi = np.array([0.1, 0.5, 0.4], dtype=np.float64)\n",
    "Y = np.array([2, 1, 0, 1, 0, 2, 2, 2, 1, 1, 2, 2, 0, 1, 1, 0], np.int)\n",
    "\n",
    "nrSteps = 1\n",
    "loglikelihoodCutoff = 0\n",
    "sigma = IntegerRange(0,3)\n",
    "\n",
    "print_observations(Y, \"bw\")\n",
    "print_model(A, B, pi, \"bw\")\n",
    "hmm_model = HMMFromMatrices(sigma, DiscreteDistribution(sigma), list(A), list(B), list(pi))\n",
    "train_seq = EmissionSequence(sigma, list(Y))\n",
    "hmm_model.baumWelch(train_seq, nrSteps, loglikelihoodCutoff)\n",
    "print_converged_model(hmm_model, A, B, pi, \"bw_check\")\n",
    "\n"
   ]
  },
  {
   "cell_type": "code",
   "execution_count": 5,
   "metadata": {},
   "outputs": [
    {
     "output_type": "stream",
     "name": "stderr",
     "text": "GHMM ghmm.py:148 - reestimate.c:ghmm_dmodel_baum_welch(843): No convergence: log P < log P-old! (n=93)\n\n\n    bw.observations[0*T + 0] = 2;\n    bw.observations[0*T + 1] = 1;\n    bw.observations[0*T + 2] = 0;\n    bw.observations[0*T + 3] = 1;\n    bw.observations[0*T + 4] = 0;\n    bw.observations[0*T + 5] = 2;\n    bw.observations[0*T + 6] = 2;\n    bw.observations[0*T + 7] = 2;\n    bw.observations[0*T + 8] = 1;\n    bw.observations[0*T + 9] = 1;\n    bw.observations[0*T + 10] = 2;\n    bw.observations[0*T + 11] = 2;\n    bw.observations[0*T + 12] = 0;\n    bw.observations[0*T + 13] = 1;\n    bw.observations[0*T + 14] = 1;\n    bw.observations[0*T + 15] = 0;\n\n    bw.init_prob[0] = 0.10000000;\n    bw.init_prob[1] = 0.50000000;\n    bw.init_prob[2] = 0.40000000;\n\n    bw.trans_prob[0*N + 0] = 0.50000000;\n    bw.trans_prob[0*N + 1] = 0.40000000;\n    bw.trans_prob[0*N + 2] = 0.10000000;\n    bw.trans_prob[1*N + 0] = 0.30000000;\n    bw.trans_prob[1*N + 1] = 0.30000000;\n    bw.trans_prob[1*N + 2] = 0.40000000;\n    bw.trans_prob[2*N + 0] = 0.10000000;\n    bw.trans_prob[2*N + 1] = 0.10000000;\n    bw.trans_prob[2*N + 2] = 0.80000000;\n\n    bw.emit_prob[0*M + 0] = 0.10000000;\n    bw.emit_prob[0*M + 1] = 0.00000000;\n    bw.emit_prob[0*M + 2] = 0.90000000;\n    bw.emit_prob[1*M + 0] = 0.05000000;\n    bw.emit_prob[1*M + 1] = 0.95000000;\n    bw.emit_prob[1*M + 2] = 0.00000000;\n    bw.emit_prob[2*M + 0] = 0.30000000;\n    bw.emit_prob[2*M + 1] = 0.52000000;\n    bw.emit_prob[2*M + 2] = 0.18000000;\n\n    bw_check.init_prob[0] = 1.00000000;\n    bw_check.init_prob[1] = 0.00000000;\n    bw_check.init_prob[2] = 0.00000000;\n\n    bw_check.trans_prob[0*N + 0] = 0.50000000;\n    bw_check.trans_prob[0*N + 1] = 0.50000000;\n    bw_check.trans_prob[0*N + 2] = 0.00000000;\n    bw_check.trans_prob[1*N + 0] = 0.00000000;\n    bw_check.trans_prob[1*N + 1] = 0.52712619;\n    bw_check.trans_prob[1*N + 2] = 0.47287381;\n    bw_check.trans_prob[2*N + 0] = 0.61350576;\n    bw_check.trans_prob[2*N + 1] = 0.00000000;\n    bw_check.trans_prob[2*N + 2] = 0.38649424;\n\n    bw_check.emit_prob[0*M + 0] = 0.00000000;\n    bw_check.emit_prob[0*M + 1] = 0.00000000;\n    bw_check.emit_prob[0*M + 2] = 1.00000000;\n    bw_check.emit_prob[1*M + 0] = 0.33263613;\n    bw_check.emit_prob[1*M + 1] = 0.66736387;\n    bw_check.emit_prob[1*M + 2] = 0.00000000;\n    bw_check.emit_prob[2*M + 0] = 0.50213607;\n    bw_check.emit_prob[2*M + 1] = 0.49786393;\n    bw_check.emit_prob[2*M + 2] = 0.00000000;\n\n"
    }
   ],
   "source": [
    "# test_case_ghmm_3\n",
    "\n",
    "A = np.array([[0.5, 0.4, 0.1], [0.3, 0.3, 0.4], [0.1, 0.1, 0.8]], dtype=np.float64)\n",
    "B = np.array([[0.1, 0.0, 0.9], [0.05, 0.95, 0.0], [0.3, 0.52, 0.18]], dtype=np.float64)\n",
    "pi = np.array([0.1, 0.5, 0.4], dtype=np.float64)\n",
    "Y = np.array([2, 1, 0, 1, 0, 2, 2, 2, 1, 1, 2, 2, 0, 1, 1, 0], np.int)\n",
    "\n",
    "nrSteps = 1000\n",
    "loglikelihoodCutoff = 0\n",
    "sigma = IntegerRange(0,3)\n",
    "\n",
    "print_observations(Y, \"bw\")\n",
    "print_model(A, B, pi, \"bw\")\n",
    "hmm_model = HMMFromMatrices(sigma, DiscreteDistribution(sigma), list(A), list(B), list(pi))\n",
    "train_seq = EmissionSequence(sigma, list(Y))\n",
    "hmm_model.baumWelch(train_seq, nrSteps, loglikelihoodCutoff)\n",
    "print_converged_model(hmm_model, A, B, pi, \"bw_check\")\n",
    "\n"
   ]
  }
 ],
 "metadata": {
  "language_info": {
   "codemirror_mode": {
    "name": "ipython",
    "version": 3
   },
   "file_extension": ".py",
   "mimetype": "text/x-python",
   "name": "python",
   "nbconvert_exporter": "python",
   "pygments_lexer": "ipython3",
   "version": "2.7.16-final"
  },
  "orig_nbformat": 2,
  "kernelspec": {
   "name": "python2",
   "display_name": "Python 2"
  }
 },
 "nbformat": 4,
 "nbformat_minor": 2
}